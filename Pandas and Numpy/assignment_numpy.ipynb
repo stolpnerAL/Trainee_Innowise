{
 "cells": [
  {
   "cell_type": "markdown",
   "id": "d3df79dd",
   "metadata": {},
   "source": [
    "## Упражнения по библиотеке Numpy"
   ]
  },
  {
   "cell_type": "code",
   "execution_count": null,
   "id": "76b9c43b",
   "metadata": {},
   "outputs": [],
   "source": [
    "import numpy as np"
   ]
  },
  {
   "cell_type": "markdown",
   "id": "03727b7c",
   "metadata": {},
   "source": [
    "**1.** Дан случайный массив, поменять знак у элементов, значения которых между 3 и 8"
   ]
  },
  {
   "cell_type": "code",
   "execution_count": null,
   "id": "b89a7523",
   "metadata": {},
   "outputs": [
    {
     "data": {
      "text/plain": [
       "array([12, 11, 19, -4, -7,  9, -4])"
      ]
     },
     "execution_count": 2,
     "metadata": {},
     "output_type": "execute_result"
    }
   ],
   "source": [
    "# your code\n",
    "arr = np.random.randint(1, 20, size=np.random.randint(1,20))\n",
    "\n",
    "def swap_signs(arr):\n",
    "    \n",
    "    arr[(arr > 3) & (arr < 8)] = np.negative(arr[(arr > 3) & (arr < 8)])\n",
    "    return arr\n",
    "\n",
    "swap_signs(arr)"
   ]
  },
  {
   "cell_type": "markdown",
   "id": "5fa4abda",
   "metadata": {},
   "source": [
    "**2.** Заменить максимальный элемент случайного массива на 0"
   ]
  },
  {
   "cell_type": "code",
   "execution_count": null,
   "id": "f2788a6e",
   "metadata": {},
   "outputs": [
    {
     "data": {
      "text/plain": [
       "array([12, 11,  0, -4, -7,  9, -4])"
      ]
     },
     "execution_count": 3,
     "metadata": {},
     "output_type": "execute_result"
    }
   ],
   "source": [
    "# your code\n",
    "\n",
    "def max_to_zero(arr):\n",
    "    arr[np.argmax(arr)] = 0\n",
    "    return arr\n",
    "\n",
    "max_to_zero(arr)"
   ]
  },
  {
   "cell_type": "markdown",
   "id": "3cac656b",
   "metadata": {},
   "source": [
    "**3.** Построить прямое произведение массивов (все комбинации с каждым элементом). На вход подается двумерный массив"
   ]
  },
  {
   "cell_type": "code",
   "execution_count": 182,
   "id": "3396b764",
   "metadata": {},
   "outputs": [
    {
     "name": "stdout",
     "output_type": "stream",
     "text": [
      "[[10 17]\n",
      " [ 1  5]]\n",
      " \n",
      "[[10 10]\n",
      " [10 17]\n",
      " [10  1]\n",
      " [10  5]\n",
      " [17 10]\n",
      " [17 17]\n",
      " [17  1]\n",
      " [17  5]\n",
      " [ 1 10]\n",
      " [ 1 17]\n",
      " [ 1  1]\n",
      " [ 1  5]\n",
      " [ 5 10]\n",
      " [ 5 17]\n",
      " [ 5  1]\n",
      " [ 5  5]]\n"
     ]
    }
   ],
   "source": [
    "# your code\n",
    "td_arr = np.random.randint(1, 20, size=(2, np.random.randint(1, 3)))\n",
    "\n",
    "def cross_mul(arr):\n",
    "    \n",
    "    all_elements = np.concatenate(arr)\n",
    "    \n",
    "    combinations = np.array(np.meshgrid(all_elements,all_elements)).T.reshape(-1,2)\n",
    "    return combinations\n",
    "\n",
    "result = cross_mul(td_arr)\n",
    "\n",
    "print(td_arr)\n",
    "print(' ')\n",
    "print(result)"
   ]
  },
  {
   "cell_type": "markdown",
   "id": "674c9354",
   "metadata": {},
   "source": [
    "**4.** Даны 2 массива A (8x3) и B (2x2). Найти строки в A, которые содержат элементы из каждой строки в B, независимо от порядка элементов в B"
   ]
  },
  {
   "cell_type": "code",
   "execution_count": 25,
   "id": "cb664782",
   "metadata": {},
   "outputs": [
    {
     "name": "stdout",
     "output_type": "stream",
     "text": [
      "[[13 13 15]\n",
      " [ 3  2  8]\n",
      " [ 6 16 14]\n",
      " [ 2 18  4]\n",
      " [ 9  6 12]\n",
      " [18  7 17]\n",
      " [12  7  1]\n",
      " [ 8  6 12]]\n",
      " \n",
      "[[ 9 11]\n",
      " [18 17]]\n",
      " \n",
      "[[18  7 17]]\n"
     ]
    }
   ],
   "source": [
    "# your code\n",
    "A = np.random.randint(1, 20, size=(8, 3))\n",
    "B = np.random.randint(1, 20, size=(2, 2))\n",
    "\n",
    "mask = np.zeros(len(A), dtype=bool)\n",
    "\n",
    "for b in B:\n",
    "    \n",
    "    contains_row_b = np.array([np.all(np.isin(b, a)) for a in A])\n",
    "    mask |= contains_row_b  \n",
    "\n",
    "result = A[mask]\n",
    "\n",
    "print(A)\n",
    "print(' ')\n",
    "print(B)\n",
    "print(' ')\n",
    "print(result)"
   ]
  },
  {
   "cell_type": "markdown",
   "id": "fa46533b",
   "metadata": {},
   "source": [
    "**5.** Дана 10x3 матрица, найти строки из неравных значений (например строка [2,2,3] остается, строка [3,3,3] удаляется)"
   ]
  },
  {
   "cell_type": "code",
   "execution_count": 8,
   "id": "fa545b23",
   "metadata": {},
   "outputs": [
    {
     "name": "stdout",
     "output_type": "stream",
     "text": [
      "[[1 2 2]\n",
      " [2 2 2]\n",
      " [1 1 2]\n",
      " [1 1 1]\n",
      " [2 1 2]\n",
      " [1 1 2]\n",
      " [2 1 1]\n",
      " [2 2 2]\n",
      " [1 2 2]\n",
      " [1 2 2]]\n",
      " \n",
      "[[1 2 2]\n",
      " [1 1 2]\n",
      " [2 1 2]\n",
      " [1 1 2]\n",
      " [2 1 1]\n",
      " [1 2 2]\n",
      " [1 2 2]]\n"
     ]
    }
   ],
   "source": [
    "# your code\n",
    "matrix = np.random.randint(1, 3, size =(10,3))\n",
    "mask = np.array([len(np.unique(row)) > 1 for row in matrix])\n",
    "\n",
    "print(matrix)\n",
    "print(' ')\n",
    "print(matrix[mask])"
   ]
  },
  {
   "cell_type": "markdown",
   "id": "28f0d116",
   "metadata": {},
   "source": [
    "**6.** Дан двумерный массив. Удалить те строки, которые повторяются"
   ]
  },
  {
   "cell_type": "code",
   "execution_count": 27,
   "id": "83d2c0b7",
   "metadata": {},
   "outputs": [
    {
     "name": "stdout",
     "output_type": "stream",
     "text": [
      "[[1 1 1]\n",
      " [2 2 1]\n",
      " [2 2 1]\n",
      " [2 1 1]\n",
      " [2 2 2]]\n",
      " \n",
      "[[1 1 1]\n",
      " [2 1 1]\n",
      " [2 2 1]\n",
      " [2 2 2]]\n"
     ]
    }
   ],
   "source": [
    "# your code\n",
    "td_arr_6 = np.random.randint(1, 3, size=(5, 3))\n",
    "unique_arr = np.unique(td_arr_6, axis = 0)\n",
    "\n",
    "print(td_arr_6)\n",
    "print(' ')\n",
    "print(unique_arr)"
   ]
  },
  {
   "cell_type": "markdown",
   "id": "6daa9e37",
   "metadata": {},
   "source": [
    "______\n",
    "______"
   ]
  },
  {
   "cell_type": "markdown",
   "id": "cfbfcaff",
   "metadata": {},
   "source": [
    "Для каждой из следующих задач (1-5) нужно привести 2 реализации – одна без использования numpy (cчитайте, что там, где на входе или выходе должны быть numpy array, будут просто списки), а вторая полностью векторизованная с использованием numpy (без использования питоновских циклов/map/list comprehension).\n",
    "\n",
    "\n",
    "__Замечание 1.__ Можно считать, что все указанные объекты непустые (к примеру, в __задаче 1__ на диагонали матрицы есть ненулевые элементы).\n",
    "\n",
    "__Замечание 2.__ Для большинства задач решение занимает не больше 1-2 строк."
   ]
  },
  {
   "cell_type": "markdown",
   "id": "673cac7f",
   "metadata": {},
   "source": [
    "___"
   ]
  },
  {
   "cell_type": "markdown",
   "id": "ca6f585e",
   "metadata": {},
   "source": [
    "* __Задача 1__: Подсчитать произведение ненулевых элементов на диагонали прямоугольной матрицы.  \n",
    " Например, для X = np.array([[1, 0, 1], [2, 0, 2], [3, 0, 3], [4, 4, 4]]) ответ 3."
   ]
  },
  {
   "cell_type": "code",
   "execution_count": 48,
   "id": "065862fc",
   "metadata": {},
   "outputs": [
    {
     "name": "stdout",
     "output_type": "stream",
     "text": [
      "[[0 8 0]\n",
      " [7 6 7]\n",
      " [9 7 7]\n",
      " [3 6 2]]\n",
      "  \n",
      "42\n"
     ]
    }
   ],
   "source": [
    "# your code\n",
    "x = np.random.randint(0,10, size=(np.random.randint(2,5), np.random.randint(2,5)))\n",
    "\n",
    "#без numpy \n",
    "def diagonal_nonzero(matrix):\n",
    "    n_rows = len(matrix)\n",
    "    n_cols = len(matrix[0])\n",
    "    n = 1\n",
    "    \n",
    "    for i in range(min(n_rows, n_cols)):\n",
    "        elem = matrix[i][i]\n",
    "        if elem != 0:\n",
    "            n *= elem\n",
    "            \n",
    "    return n \n",
    "\n",
    "print(x)\n",
    "print('  ')\n",
    "print(diagonal_nonzero(x))"
   ]
  },
  {
   "cell_type": "code",
   "execution_count": 49,
   "id": "664c7913-430d-4657-9108-5747a4f112ad",
   "metadata": {},
   "outputs": [
    {
     "name": "stdout",
     "output_type": "stream",
     "text": [
      "[[0 8 0]\n",
      " [7 6 7]\n",
      " [9 7 7]\n",
      " [3 6 2]]\n",
      "  \n",
      "42\n"
     ]
    }
   ],
   "source": [
    "#С numpy\n",
    "    \n",
    "diagonal = np.diagonal(x)\n",
    "nonzero  = diagonal[diagonal != 0]\n",
    "\n",
    "print(x)\n",
    "print('  ')\n",
    "print(np.prod(nonzero))"
   ]
  },
  {
   "cell_type": "markdown",
   "id": "9fc51d41",
   "metadata": {},
   "source": [
    "* __Задача 2__: Даны два вектора x и y. Проверить, задают ли они одно и то же мультимножество.  \n",
    "  Например, для x = np.array([1, 2, 2, 4]), y = np.array([4, 2, 1, 2]) ответ True."
   ]
  },
  {
   "cell_type": "code",
   "execution_count": 129,
   "id": "a809e02f",
   "metadata": {},
   "outputs": [
    {
     "name": "stdout",
     "output_type": "stream",
     "text": [
      "[[2 2 1 2]]\n",
      "[[1 2 2 2]]\n",
      "True\n"
     ]
    }
   ],
   "source": [
    "# your code\n",
    "vector_1 = np.random.randint(1,3, size = (1,4))\n",
    "vector_2 = np.random.randint(1,3, size = (1,4))\n",
    "\n",
    "# без numpy\n",
    "\n",
    "list1 = sorted([item for row in vector_1 for item in row])\n",
    "list2 = sorted([item for row in vector_2 for item in row])\n",
    "\n",
    "res = list1 == list2\n",
    "\n",
    "print(vector_1)\n",
    "print(vector_2)\n",
    "print(res)"
   ]
  },
  {
   "cell_type": "code",
   "execution_count": 131,
   "id": "d9128879-6828-4f27-9733-b6678248bdfe",
   "metadata": {},
   "outputs": [
    {
     "name": "stdout",
     "output_type": "stream",
     "text": [
      "[[2 2 1 2]]\n",
      "[[1 2 2 2]]\n",
      "True\n"
     ]
    }
   ],
   "source": [
    "#С numpy \n",
    "res_1 = np.array_equal(np.sort(vector_1), np.sort(vector_2))\n",
    "\n",
    "print(vector_1)\n",
    "print(vector_2)\n",
    "print(res_1)"
   ]
  },
  {
   "cell_type": "markdown",
   "id": "b9c185c7",
   "metadata": {},
   "source": [
    "* __Задача 3__: Найти максимальный элемент в векторе x среди элементов, перед которыми стоит ноль. \n",
    " Например, для x = np.array([6, 2, 0, 3, 0, 0, 5, 7, 0]) ответ 5."
   ]
  },
  {
   "cell_type": "code",
   "execution_count": 58,
   "id": "b57df008",
   "metadata": {},
   "outputs": [
    {
     "name": "stdout",
     "output_type": "stream",
     "text": [
      "[8 0 1 4 2 1 0]\n",
      "1\n"
     ]
    }
   ],
   "source": [
    "# your code\n",
    "x3 = np.random.randint(0,11,7)\n",
    "\n",
    "#Без numpy\n",
    "try:\n",
    "    max_val = max([x3[i] for i in range(1, len(x3)) if x3[i-1] == 0])\n",
    "\n",
    "except Exception as e:\n",
    "    print(\"No 0's in this vector!\", e)\n",
    "\n",
    "\n",
    "print(x3)\n",
    "print(max_val)"
   ]
  },
  {
   "cell_type": "code",
   "execution_count": 61,
   "id": "69dfed4a-c8e0-4bd2-bfc2-c9210703ce57",
   "metadata": {},
   "outputs": [
    {
     "name": "stdout",
     "output_type": "stream",
     "text": [
      "[8 0 1 4 2 1 0]\n",
      "1\n"
     ]
    }
   ],
   "source": [
    "is_zero = x3 == 0\n",
    "shifted_is_zero = np.roll(is_zero, 1)\n",
    "shifted_is_zero[0] = False\n",
    "elements_after_zeros = x3[shifted_is_zero]\n",
    "\n",
    "if len(elements_after_zeros) > 0:\n",
    "    max_element = elements_after_zeros.max()\n",
    "else:\n",
    "    max_element = \"No 0's in this vector!\"\n",
    "\n",
    "print(x3)\n",
    "print(max_element)"
   ]
  },
  {
   "cell_type": "markdown",
   "id": "480be4ce",
   "metadata": {},
   "source": [
    "* __Задача 4__: Реализовать кодирование длин серий (Run-length encoding). Для некоторого вектора x необходимо вернуть кортеж из двух векторов одинаковой длины. Первый содержит числа, а второй - сколько раз их нужно повторить.  \n",
    " Например, для x = np.array([2, 2, 2, 3, 3, 3, 5]) ответ (np.array([2, 3, 5]), np.array([3, 3, 1]))."
   ]
  },
  {
   "cell_type": "code",
   "execution_count": 71,
   "id": "3c592124",
   "metadata": {},
   "outputs": [
    {
     "name": "stdout",
     "output_type": "stream",
     "text": [
      "[3 1 1 3 3 3]\n",
      "([3, 1, 3], [1, 2, 3])\n"
     ]
    }
   ],
   "source": [
    "# your code\n",
    "x4 = np.random.randint(1, 4, np.random.randint(5, 10))\n",
    "values = []\n",
    "counts = []\n",
    "\n",
    "current_v = x4[0]\n",
    "current_c = 1\n",
    "\n",
    "for idx, el in enumerate(x4):\n",
    "    if idx == 0:\n",
    "        continue\n",
    "\n",
    "    if el == current_v:\n",
    "        current_c += 1\n",
    "            \n",
    "    else:\n",
    "        values.append(current_v)\n",
    "        counts.append(current_c)\n",
    "        current_v = el\n",
    "        current_c = 1\n",
    "\n",
    "values.append(current_v)\n",
    "counts.append(current_c)\n",
    "\n",
    "result_tuple = (values,counts)\n",
    "\n",
    "print(x4)\n",
    "print(result_tuple)"
   ]
  },
  {
   "cell_type": "code",
   "execution_count": 72,
   "id": "3858d65d-469a-4cbb-a65c-c01688ca16fb",
   "metadata": {},
   "outputs": [
    {
     "name": "stdout",
     "output_type": "stream",
     "text": [
      "[3 1 1 3 3 3]\n",
      "(array([1, 3]), array([2, 4]))\n"
     ]
    }
   ],
   "source": [
    "#С numpy \n",
    "values, counts = np.unique(x4, return_counts=True)\n",
    "tup = (values, counts)\n",
    "\n",
    "print(x4)\n",
    "print(tup)"
   ]
  },
 
   },
   "cell_type": "markdown",
   "id": "077532ec",
   "metadata": {},
   "source": [
    "* __Задача 5__: Даны две выборки объектов - X и Y. Вычислить матрицу евклидовых расстояний между объектами. Сравните с функцией scipy.spatial.distance.cdist по скорости работы.\n",
    "\n",
    "![image.png](attachment:85010a22-d419-4f57-8502-6a2078f77de7.png)"
   ]
  },
  {
   "cell_type": "code",
   "execution_count": 105,
   "id": "1e807797",
   "metadata": {},
   "outputs": [
    {
     "name": "stdout",
     "output_type": "stream",
     "text": [
      "[2.0, 4.123105625617661]\n",
      "[4.0, 3.0]\n",
      "Время выполнения: 0.000060 сек\n",
      "X = [[4 6]\n",
      " [6 2]]\n",
      "Y = [[6 6]\n",
      " [3 2]]\n"
     ]
    }
   ],
   "source": [
    "# your code\n",
    "import math\n",
    "import time\n",
    "\n",
    "# Пример данных\n",
    "X = np.random.randint(1, 7, size=(2, 2))\n",
    "Y = np.random.randint(1, 7, size=(2, 2))\n",
    "\n",
    "def euclid_length(X, Y):\n",
    "    \n",
    "    rows_X = len(X)\n",
    "    rows_Y = len(Y)\n",
    "    \n",
    "    dist_matrix = [[0] * rows_Y for _ in range(rows_X)]\n",
    "    \n",
    "    for i in range(rows_X):\n",
    "        for j in range(rows_Y):\n",
    "            sum_sq = 0\n",
    "\n",
    "            for k in range(len(X[i])):\n",
    "                sum_sq += (X[i][k] - Y[j][k])**2\n",
    "            dist_matrix[i][j] = math.sqrt(sum_sq)\n",
    "            \n",
    "    return dist_matrix\n",
    "\n",
    "start_time = time.time()\n",
    "dist_matrix = euclid_length(X, Y)\n",
    "end_time = time.time()\n",
    "\n",
    "for row in dist_matrix:\n",
    "    print(row)\n",
    "print(f\"Время выполнения: {end_time - start_time:f} сек\")\n",
    "print(f\"X = {X}\")\n",
    "print(f\"Y = {Y}\")"
   ]
  },
  {
   "cell_type": "code",
   "execution_count": 106,
   "id": "dfe80f39-3e7b-4992-a652-a0d2f5afd2b5",
   "metadata": {},
   "outputs": [
    {
     "name": "stdout",
     "output_type": "stream",
     "text": [
      "[[2.         4.12310563]\n",
      " [4.         3.        ]]\n"
     ]
    }
   ],
   "source": [
    "def euclid_length_np(X, Y):\n",
    "    return np.linalg.norm(X[:, np.newaxis] - Y, axis=2)\n",
    "\n",
    "dist_matrix_norm = euclid_length_np(X, Y)\n",
    "print(dist_matrix_norm)"
   ]
  },
  {
   "cell_type": "code",
   "execution_count": 108,
   "id": "a15d6d66-acbb-4065-b6ae-8d101d324462",
   "metadata": {},
   "outputs": [
    {
     "name": "stdout",
     "output_type": "stream",
     "text": [
      "[2.         4.12310563]\n",
      "[4. 3.]\n",
      "Время выполнения: 0.001406 сек\n",
      "X = [[4 6]\n",
      " [6 2]]\n",
      "Y = [[6 6]\n",
      " [3 2]]\n"
     ]
    }
   ],
   "source": [
    "from scipy.spatial import distance\n",
    "\n",
    "start_time = time.time()\n",
    "\n",
    "for row in distance.cdist(X, Y, 'euclidean'):\n",
    "    print(row)\n",
    "    \n",
    "end_time = time.time()\n",
    "\n",
    "print(f\"Время выполнения: {end_time - start_time:f} сек\")\n",
    "print(f\"X = {X}\")\n",
    "print(f\"Y = {Y}\")"
   ]
  },
  {
   "cell_type": "markdown",
   "id": "973e8064",
   "metadata": {},
   "source": [
    "_______\n",
    "________"
   ]
  },
  {
   "cell_type": "markdown",
   "id": "1104acb7",
   "metadata": {},
   "source": [
    "* #### __Задача 6__: CrunchieMunchies __*__\n",
    "\n",
    "Вы работаете в отделе маркетинга пищевой компании MyCrunch, которая разрабатывает новый вид вкусных, полезных злаков под названием **CrunchieMunchies**.\n",
    "\n",
    "Вы хотите продемонстрировать потребителям, насколько полезны ваши хлопья по сравнению с другими ведущими брендами, поэтому вы собрали данные о питании нескольких разных конкурентов.\n",
    "\n",
    "Ваша задача - использовать вычисления Numpy для анализа этих данных и доказать, что ваши **СrunchieMunchies** - самый здоровый выбор для потребителей.\n"
   ]
  },
  {
   "cell_type": "code",
   "execution_count": 109,
   "id": "10a77f8d",
   "metadata": {},
   "outputs": [],
   "source": [
    "import numpy as np"
   ]
  },
  {
   "cell_type": "markdown",
   "id": "ab87cb03",
   "metadata": {},
   "source": [
    "1. Просмотрите файл cereal.csv. Этот файл содержит количества калорий для различных марок хлопьев. Загрузите данные из файла и сохраните их как calorie_stats."
   ]
  },
  {
   "cell_type": "code",
   "execution_count": 110,
   "id": "9681ebf2",
   "metadata": {},
   "outputs": [
    {
     "data": {
      "text/plain": [
       "array([ 70., 120.,  70.,  50., 110., 110., 110., 130.,  90.,  90., 120.,\n",
       "       110., 120., 110., 110., 110., 100., 110., 110., 110., 100., 110.,\n",
       "       100., 100., 110., 110., 100., 120., 120., 110., 100., 110., 100.,\n",
       "       110., 120., 120., 110., 110., 110., 140., 110., 100., 110., 100.,\n",
       "       150., 150., 160., 100., 120., 140.,  90., 130., 120., 100.,  50.,\n",
       "        50., 100., 100., 120., 100.,  90., 110., 110.,  80.,  90.,  90.,\n",
       "       110., 110.,  90., 110., 140., 100., 110., 110., 100., 100., 110.])"
      ]
     },
     "execution_count": 110,
     "metadata": {},
     "output_type": "execute_result"
    }
   ],
   "source": [
    "calorie_stats = np.loadtxt(\"./data/cereal.csv\", delimiter=\",\")\n",
    "calorie_stats"
   ]
  },
  {
   "cell_type": "markdown",
   "id": "139cfbd8",
   "metadata": {},
   "source": [
    "2. В одной порции CrunchieMunchies содержится 60 калорий. Насколько выше среднее количество калорий у ваших конкурентов?\n",
    "\n",
    "Сохраните ответ в переменной average_calories и распечатайте переменную в терминале"
   ]
  },
  {
   "cell_type": "code",
   "execution_count": 155,
   "id": "7036d240",
   "metadata": {},
   "outputs": [
    {
     "name": "stdout",
     "output_type": "stream",
     "text": [
      "среднее кол-во калорий = 107.0, выше нашего продука на 47.0 калорий\n"
     ]
    }
   ],
   "source": [
    "# your code\n",
    "crunchie_calories  = 60.0\n",
    "avg_enemy_calories = np.mean(calorie_stats)\n",
    "\n",
    "print(f'среднее кол-во калорий = {avg_enemy_calories.round(0)}, выше нашего продука на {(avg_enemy_calories - crunchie_calories).round(0)} калорий')"
   ]
  },
  {
   "cell_type": "markdown",
   "id": "b2ddb4cd",
   "metadata": {},
   "source": [
    "3. Корректно ли среднее количество калорий отражает распределение набора данных? Давайте отсортируем данные и посмотрим.\n",
    "\n",
    "Отсортируйте данные и сохраните результат в переменной calorie_stats_sorted. Распечатайте отсортированную информацию"
   ]
  },
  {
   "cell_type": "code",
   "execution_count": 117,
   "id": "46eeb4ed",
   "metadata": {},
   "outputs": [
    {
     "data": {
      "text/plain": [
       "array([ 50.,  50.,  50.,  70.,  70.,  80.,  90.,  90.,  90.,  90.,  90.,\n",
       "        90.,  90., 100., 100., 100., 100., 100., 100., 100., 100., 100.,\n",
       "       100., 100., 100., 100., 100., 100., 100., 100., 110., 110., 110.,\n",
       "       110., 110., 110., 110., 110., 110., 110., 110., 110., 110., 110.,\n",
       "       110., 110., 110., 110., 110., 110., 110., 110., 110., 110., 110.,\n",
       "       110., 110., 110., 110., 120., 120., 120., 120., 120., 120., 120.,\n",
       "       120., 120., 120., 130., 130., 140., 140., 140., 150., 150., 160.])"
      ]
     },
     "execution_count": 117,
     "metadata": {},
     "output_type": "execute_result"
    }
   ],
   "source": [
    "# your code\n",
    "calorie_stats_sorted = np.sort(calorie_stats)\n",
    "calorie_stats_sorted"
   ]
  },
  {
   "cell_type": "markdown",
   "id": "4dc74116",
   "metadata": {},
   "source": [
    "4. Похоже, что большинство значений выше среднего. Давайте посмотрим, является ли медиана наиболее корректным показателем набора данных.\n",
    "\n",
    "Вычислите медиану набора данных и сохраните свой ответ в median_calories. Выведите медиану, чтобы вы могли видеть, как она сравнивается со средним значением.\n"
   ]
  },
  {
   "cell_type": "code",
   "execution_count": 123,
   "id": "b56627c3",
   "metadata": {},
   "outputs": [
    {
     "data": {
      "text/plain": [
       "110.0"
      ]
     },
     "execution_count": 123,
     "metadata": {},
     "output_type": "execute_result"
    }
   ],
   "source": [
    "median_calories = np.median(calorie_stats)\n",
    "median_calories"
   ]
  },
  {
   "cell_type": "markdown",
   "id": "a63ab72f",
   "metadata": {},
   "source": [
    "5. В то время как медиана показывает, что по крайней мере половина наших значений составляет более 100 калорий, было бы более впечатляюще показать, что значительная часть конкурентов имеет более высокое количество калорий, чем CrunchieMunchies.\n",
    "\n",
    "Рассчитайте различные процентили и распечатайте их, пока не найдете наименьший процентиль, превышающий 60 калорий. Сохраните это значение в переменной nth_percentile."
   ]
  },
  {
   "cell_type": "code",
   "execution_count": 145,
   "id": "fe80ce03",
   "metadata": {},
   "outputs": [
    {
     "data": {
      "text/plain": [
       "70.0"
      ]
     },
     "execution_count": 145,
     "metadata": {},
     "output_type": "execute_result"
    }
   ],
   "source": [
    "# your code\n",
    "nth_percentile = np.percentile(calorie_stats, 4)\n",
    "nth_percentile"
   ]
  },
  {
   "cell_type": "markdown",
   "id": "a2a3c5aa",
   "metadata": {},
   "source": [
    "6. Хотя процентиль показывает нам, что у большинства конкурентов количество калорий намного выше, это неудобная концепция для использования в маркетинговых материалах.\n",
    "\n",
    "Вместо этого давайте подсчитаем процент хлопьев, в которых содержится более 60 калорий на порцию. Сохраните свой ответ в переменной more_calories и распечатайте его"
   ]
  },
  {
   "cell_type": "code",
   "execution_count": 150,
   "id": "ade0f6ea",
   "metadata": {},
   "outputs": [
    {
     "data": {
      "text/plain": [
       "96.0"
      ]
     },
     "execution_count": 150,
     "metadata": {},
     "output_type": "execute_result"
    }
   ],
   "source": [
    "# your code\n",
    "more_calories = (np.sum(calorie_stats > 60.0) / len(calorie_stats)) * 100\n",
    "more_calories.round(0)"
   ]
  },
  {
   "cell_type": "markdown",
   "id": "1735d65b",
   "metadata": {},
   "source": [
    "7. Это действительно высокий процент. Это будет очень полезно, когда мы будем продвигать CrunchieMunchies. Но один вопрос заключается в том, насколько велики различия в наборе данных? Можем ли мы сделать обобщение, что в большинстве злаков содержится около 100 калорий или разброс еще больше?\n",
    "\n",
    "Рассчитайте величину отклонения, найдя стандартное отклонение, Сохраните свой ответ в calorie_std и распечатайте на терминале. Как мы можем включить эту ценность в наш анализ?"
   ]
  },
  {
   "cell_type": "code",
   "execution_count": 156,
   "id": "85c8df1f",
   "metadata": {},
   "outputs": [
    {
     "data": {
      "text/plain": [
       "19.35718533390827"
      ]
     },
     "execution_count": 156,
     "metadata": {},
     "output_type": "execute_result"
    }
   ],
   "source": [
    "# your code\n",
    "calorie_std = np.std(calorie_stats)\n",
    "calorie_std\n",
    "\n",
    "#Данные имеют умеренный разброс"
   ]
  },
  {
   "cell_type": "markdown",
   "id": "037455c5",
   "metadata": {},
   "source": [
    "8. Напишите короткий абзац, в котором кратко изложите свои выводы и то, как, по вашему мнению, эти данные могут быть использованы в интересах Mycrunch при маркетинге CrunchieMunchies."
   ]
  },
  {
   "cell_type": "markdown",
   "id": "2a844469-3a68-4636-bf8e-af8b6a79969e",
   "metadata": {
    "tags": []
   },
   "source": [
    "Среднее по рынку = 107 калл, 96% конкурентов на рынке имеют выше каллорийность, нежели наш продукт. Нужно делать акцент на низкой калорийности, ЗОЖ и ПП, сравнивая с худшими конкурентами"
   ]
  },
  {
   "cell_type": "code",
   "execution_count": 178,
   "id": "aa4520d9-7d57-45a6-9de5-e7bf3caf1ea2",
   "metadata": {},
   "outputs": [
    {
     "name": "stdout",
     "output_type": "stream",
     "text": [
      "[[ 1  2]\n",
      " [11 22]]\n",
      " \n",
      " \n",
      "[[[ 1 11]\n",
      "  [ 2 11]]\n",
      "\n",
      " [[ 1 22]\n",
      "  [ 2 22]]]\n"
     ]
    }
   ],
   "source": [
    "r = np.array([[1,2],[11,22]])\n",
    "\n",
    "print(r)\n",
    "print(\" \")\n",
    "print(\" \")\n",
    "print(np.stack(np.meshgrid(*r), axis = -1))"
   ]
  },
  {
   "cell_type": "code",
   "execution_count": null,
   "id": "628558c3-eda2-4da8-aea7-ff460e13ba88",
   "metadata": {},
   "outputs": [],
   "source": []
  }
 ],
 "metadata": {
  "kernelspec": {
   "display_name": "Python 3 (ipykernel)",
   "language": "python",
   "name": "python3"
  },
  "language_info": {
   "codemirror_mode": {
    "name": "ipython",
    "version": 3
   },
   "file_extension": ".py",
   "mimetype": "text/x-python",
   "name": "python",
   "nbconvert_exporter": "python",
   "pygments_lexer": "ipython3",
   "version": "3.8.10"
  }
 },
 "nbformat": 4,
 "nbformat_minor": 5
}
